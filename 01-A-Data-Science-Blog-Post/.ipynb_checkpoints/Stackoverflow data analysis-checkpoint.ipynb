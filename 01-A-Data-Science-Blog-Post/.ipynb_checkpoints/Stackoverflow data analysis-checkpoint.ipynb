{
 "cells": [
  {
   "cell_type": "markdown",
   "id": "64ee5e69",
   "metadata": {},
   "source": [
    "# Investigating Stack OverFlow Data"
   ]
  },
  {
   "cell_type": "markdown",
   "id": "bf607ea0",
   "metadata": {},
   "source": [
    "In the vastly expanding world of digital services, we have all pondered the question at one time or the other. How does one get into tech? It is a difficult question to ponder as there are a myriad number of ways to get into tech. You work as a UI designer, Marketer, Content Manager, UX Researcher and a Product Marketer or software engineering."
   ]
  },
  {
   "cell_type": "markdown",
   "id": "9f885e19",
   "metadata": {},
   "source": [
    "To provide some insight on tech, we look at the Stack Overflow develper survey.\n",
    "\n",
    "Every year, Stack Overflow conducts a massive survey of people on the site, covering all sorts of information like programming languages, salary, code style and various other information. We willl be examining the 2020 survey.\n",
    "\n",
    "In analyzing this dataset, we will be using the CRISP-DM process which covers the 6 stage process.\n",
    "\n",
    "1. Business Understanding\n",
    "2. Data Understanding\n",
    "3. Prepare Data\n",
    "4. Data Modeling\n",
    "5. Evaluate the Results\n",
    "6. Deploy"
   ]
  },
  {
   "cell_type": "markdown",
   "id": "ad4ca98f",
   "metadata": {},
   "source": [
    "## Business Questions\n",
    "\n",
    "Glancing at this dataset, we can ask a number of questions on this dataset and answer few questions we are interested in.\n",
    "\n",
    "1. What is the best and most popular language to start learning?\n",
    "2. How and Where do Developers Search For New Jobs?\n",
    "3. What size of Organization Do New Developers Typically Join?\n",
    "4. How much are new developers earning?"
   ]
  },
  {
   "cell_type": "markdown",
   "id": "ba72fa6d",
   "metadata": {},
   "source": [
    "## Understanding Our Data"
   ]
  },
  {
   "cell_type": "markdown",
   "id": "fcc772d7",
   "metadata": {},
   "source": [
    "Data\n",
    "The data is made up of two files:\n",
    "\n",
    "survey_results_public.csv - CSV file with main survey results, one respondent per row and one column per answer\n",
    "survey_results_schema.csv - CSV file with survey schema, i.e., the questions that correspond to each column name\n",
    "\n",
    "In order to get a better understanding of the data let's take a look at some of the characteristics of the dataset."
   ]
  },
  {
   "cell_type": "code",
   "execution_count": 529,
   "id": "e23737c3",
   "metadata": {},
   "outputs": [],
   "source": [
    "#First, let's read in the data and necessary libraries.\n",
    "import pandas as pd\n",
    "import numpy as np\n",
    "import matplotlib.pyplot as plt\n",
    "import seaborn as sns\n",
    "\n",
    "%matplotlib inline\n",
    "\n",
    "sns.set_palette('pastel')\n",
    "sns.set_style('whitegrid')"
   ]
  },
  {
   "cell_type": "code",
   "execution_count": 530,
   "id": "6c863e13",
   "metadata": {
    "scrolled": true
   },
   "outputs": [
    {
     "data": {
      "text/html": [
       "<div>\n",
       "<style scoped>\n",
       "    .dataframe tbody tr th:only-of-type {\n",
       "        vertical-align: middle;\n",
       "    }\n",
       "\n",
       "    .dataframe tbody tr th {\n",
       "        vertical-align: top;\n",
       "    }\n",
       "\n",
       "    .dataframe thead th {\n",
       "        text-align: right;\n",
       "    }\n",
       "</style>\n",
       "<table border=\"1\" class=\"dataframe\">\n",
       "  <thead>\n",
       "    <tr style=\"text-align: right;\">\n",
       "      <th></th>\n",
       "      <th>Respondent</th>\n",
       "      <th>MainBranch</th>\n",
       "      <th>Hobbyist</th>\n",
       "      <th>Age</th>\n",
       "      <th>Age1stCode</th>\n",
       "      <th>CompFreq</th>\n",
       "      <th>CompTotal</th>\n",
       "      <th>ConvertedComp</th>\n",
       "      <th>Country</th>\n",
       "      <th>CurrencyDesc</th>\n",
       "      <th>...</th>\n",
       "      <th>SurveyEase</th>\n",
       "      <th>SurveyLength</th>\n",
       "      <th>Trans</th>\n",
       "      <th>UndergradMajor</th>\n",
       "      <th>WebframeDesireNextYear</th>\n",
       "      <th>WebframeWorkedWith</th>\n",
       "      <th>WelcomeChange</th>\n",
       "      <th>WorkWeekHrs</th>\n",
       "      <th>YearsCode</th>\n",
       "      <th>YearsCodePro</th>\n",
       "    </tr>\n",
       "  </thead>\n",
       "  <tbody>\n",
       "    <tr>\n",
       "      <th>0</th>\n",
       "      <td>1</td>\n",
       "      <td>I am a developer by profession</td>\n",
       "      <td>Yes</td>\n",
       "      <td>NaN</td>\n",
       "      <td>13</td>\n",
       "      <td>Monthly</td>\n",
       "      <td>NaN</td>\n",
       "      <td>NaN</td>\n",
       "      <td>Germany</td>\n",
       "      <td>European Euro</td>\n",
       "      <td>...</td>\n",
       "      <td>Neither easy nor difficult</td>\n",
       "      <td>Appropriate in length</td>\n",
       "      <td>No</td>\n",
       "      <td>Computer science, computer engineering, or sof...</td>\n",
       "      <td>ASP.NET Core</td>\n",
       "      <td>ASP.NET;ASP.NET Core</td>\n",
       "      <td>Just as welcome now as I felt last year</td>\n",
       "      <td>50.0</td>\n",
       "      <td>36</td>\n",
       "      <td>27</td>\n",
       "    </tr>\n",
       "    <tr>\n",
       "      <th>1</th>\n",
       "      <td>2</td>\n",
       "      <td>I am a developer by profession</td>\n",
       "      <td>No</td>\n",
       "      <td>NaN</td>\n",
       "      <td>19</td>\n",
       "      <td>NaN</td>\n",
       "      <td>NaN</td>\n",
       "      <td>NaN</td>\n",
       "      <td>United Kingdom</td>\n",
       "      <td>Pound sterling</td>\n",
       "      <td>...</td>\n",
       "      <td>NaN</td>\n",
       "      <td>NaN</td>\n",
       "      <td>NaN</td>\n",
       "      <td>Computer science, computer engineering, or sof...</td>\n",
       "      <td>NaN</td>\n",
       "      <td>NaN</td>\n",
       "      <td>Somewhat more welcome now than last year</td>\n",
       "      <td>NaN</td>\n",
       "      <td>7</td>\n",
       "      <td>4</td>\n",
       "    </tr>\n",
       "  </tbody>\n",
       "</table>\n",
       "<p>2 rows × 61 columns</p>\n",
       "</div>"
      ],
      "text/plain": [
       "   Respondent                      MainBranch Hobbyist  Age Age1stCode  \\\n",
       "0           1  I am a developer by profession      Yes  NaN         13   \n",
       "1           2  I am a developer by profession       No  NaN         19   \n",
       "\n",
       "  CompFreq  CompTotal  ConvertedComp         Country    CurrencyDesc  ...  \\\n",
       "0  Monthly        NaN            NaN         Germany   European Euro  ...   \n",
       "1      NaN        NaN            NaN  United Kingdom  Pound sterling  ...   \n",
       "\n",
       "                   SurveyEase           SurveyLength Trans  \\\n",
       "0  Neither easy nor difficult  Appropriate in length    No   \n",
       "1                         NaN                    NaN   NaN   \n",
       "\n",
       "                                      UndergradMajor WebframeDesireNextYear  \\\n",
       "0  Computer science, computer engineering, or sof...           ASP.NET Core   \n",
       "1  Computer science, computer engineering, or sof...                    NaN   \n",
       "\n",
       "     WebframeWorkedWith                             WelcomeChange WorkWeekHrs  \\\n",
       "0  ASP.NET;ASP.NET Core   Just as welcome now as I felt last year        50.0   \n",
       "1                   NaN  Somewhat more welcome now than last year         NaN   \n",
       "\n",
       "  YearsCode YearsCodePro  \n",
       "0        36           27  \n",
       "1         7            4  \n",
       "\n",
       "[2 rows x 61 columns]"
      ]
     },
     "execution_count": 530,
     "metadata": {},
     "output_type": "execute_result"
    }
   ],
   "source": [
    "df = pd.read_csv('2020/survey_results_public.csv')\n",
    "question_df = pd.read_csv('2020/survey_results_schema.csv')\n",
    "\n",
    "df.head(2)"
   ]
  },
  {
   "cell_type": "markdown",
   "id": "c5373987",
   "metadata": {},
   "source": [
    "We will start with exploring and understanding the dataset before we ask our questions"
   ]
  },
  {
   "cell_type": "code",
   "execution_count": 531,
   "id": "c0090b34",
   "metadata": {},
   "outputs": [
    {
     "name": "stdout",
     "output_type": "stream",
     "text": [
      "We have 64461 rows and 61 in the dataset\n"
     ]
    }
   ],
   "source": [
    "num_rows , num_cols = df.shape\n",
    "\n",
    "print(f'We have {num_rows} rows and {num_cols} in the dataset')"
   ]
  },
  {
   "cell_type": "markdown",
   "id": "83c9e55d",
   "metadata": {},
   "source": [
    "Let's take a look at the columns in the dataset"
   ]
  },
  {
   "cell_type": "code",
   "execution_count": 532,
   "id": "52a41036",
   "metadata": {
    "scrolled": true
   },
   "outputs": [
    {
     "data": {
      "text/plain": [
       "Index(['Respondent', 'MainBranch', 'Hobbyist', 'Age', 'Age1stCode', 'CompFreq',\n",
       "       'CompTotal', 'ConvertedComp', 'Country', 'CurrencyDesc',\n",
       "       'CurrencySymbol', 'DatabaseDesireNextYear', 'DatabaseWorkedWith',\n",
       "       'DevType', 'EdLevel', 'Employment', 'Ethnicity', 'Gender', 'JobFactors',\n",
       "       'JobSat', 'JobSeek', 'LanguageDesireNextYear', 'LanguageWorkedWith',\n",
       "       'MiscTechDesireNextYear', 'MiscTechWorkedWith',\n",
       "       'NEWCollabToolsDesireNextYear', 'NEWCollabToolsWorkedWith', 'NEWDevOps',\n",
       "       'NEWDevOpsImpt', 'NEWEdImpt', 'NEWJobHunt', 'NEWJobHuntResearch',\n",
       "       'NEWLearn', 'NEWOffTopic', 'NEWOnboardGood', 'NEWOtherComms',\n",
       "       'NEWOvertime', 'NEWPurchaseResearch', 'NEWPurpleLink', 'NEWSOSites',\n",
       "       'NEWStuck', 'OpSys', 'OrgSize', 'PlatformDesireNextYear',\n",
       "       'PlatformWorkedWith', 'PurchaseWhat', 'Sexuality', 'SOAccount',\n",
       "       'SOComm', 'SOPartFreq', 'SOVisitFreq', 'SurveyEase', 'SurveyLength',\n",
       "       'Trans', 'UndergradMajor', 'WebframeDesireNextYear',\n",
       "       'WebframeWorkedWith', 'WelcomeChange', 'WorkWeekHrs', 'YearsCode',\n",
       "       'YearsCodePro'],\n",
       "      dtype='object')"
      ]
     },
     "execution_count": 532,
     "metadata": {},
     "output_type": "execute_result"
    }
   ],
   "source": [
    "df.columns"
   ]
  },
  {
   "cell_type": "markdown",
   "id": "86461a7a",
   "metadata": {},
   "source": [
    "Not much of it makes outright sense. We can take a look at the schema for each column to see what questions are being asked."
   ]
  },
  {
   "cell_type": "code",
   "execution_count": 533,
   "id": "832d84a3",
   "metadata": {},
   "outputs": [
    {
     "data": {
      "text/plain": [
       "0    Randomized respondent ID number (not in order ...\n",
       "1    Which of the following options best describes ...\n",
       "2                              Do you code as a hobby?\n",
       "3    What is your age (in years)? If you prefer not...\n",
       "4    At what age did you write your first line of c...\n",
       "5     Is that compensation weekly, monthly, or yearly?\n",
       "6    What is your current total compensation (salar...\n",
       "7    Salary converted to annual USD salaries using ...\n",
       "8                                   Where do you live?\n",
       "9    Which currency do you use day-to-day? If your ...\n",
       "Name: QuestionText, dtype: object"
      ]
     },
     "execution_count": 533,
     "metadata": {},
     "output_type": "execute_result"
    }
   ],
   "source": [
    "question_df['QuestionText'][0:10]"
   ]
  },
  {
   "cell_type": "markdown",
   "id": "b7931b89",
   "metadata": {
    "scrolled": true
   },
   "source": [
    "Lets see which columns have missing values."
   ]
  },
  {
   "cell_type": "code",
   "execution_count": 534,
   "id": "645dc030",
   "metadata": {
    "scrolled": true
   },
   "outputs": [
    {
     "data": {
      "text/plain": [
       "ConvertedComp                   29705\n",
       "CompTotal                       29635\n",
       "NEWPurchaseResearch             27140\n",
       "PurchaseWhat                    25097\n",
       "WebframeDesireNextYear          24437\n",
       "CompFreq                        24392\n",
       "MiscTechWorkedWith              24147\n",
       "NEWJobHuntResearch              23439\n",
       "WorkWeekHrs                     23310\n",
       "NEWDevOpsImpt                   22729\n",
       "WebframeWorkedWith              22182\n",
       "NEWJobHunt                      22175\n",
       "MiscTechDesireNextYear          22082\n",
       "NEWOnboardGood                  21838\n",
       "NEWDevOps                       21775\n",
       "NEWOvertime                     21230\n",
       "Sexuality                       20469\n",
       "DatabaseDesireNextYear          20391\n",
       "OrgSize                         20127\n",
       "JobSat                          19267\n",
       "Age                             19015\n",
       "CurrencyDesc                    18989\n",
       "CurrencySymbol                  18989\n",
       "Ethnicity                       18513\n",
       "YearsCodePro                    18112\n",
       "SOPartFreq                      17669\n",
       "NEWCollabToolsDesireNextYear    17174\n",
       "NEWEdImpt                       15996\n",
       "Trans                           15116\n",
       "JobFactors                      15112\n",
       "DevType                         15091\n",
       "DatabaseWorkedWith              14924\n",
       "Gender                          13904\n",
       "PlatformDesireNextYear          13856\n",
       "NEWOffTopic                     13657\n",
       "UndergradMajor                  13466\n",
       "SurveyLength                    12760\n",
       "JobSeek                         12734\n",
       "SurveyEase                      12659\n",
       "WelcomeChange                   11778\n",
       "NEWCollabToolsWorkedWith        11578\n",
       "PlatformWorkedWith              10618\n",
       "LanguageDesireNextYear          10348\n",
       "NEWPurpleLink                    9658\n",
       "NEWStuck                         9478\n",
       "NEWLearn                         8305\n",
       "OpSys                            8233\n",
       "SOComm                           7985\n",
       "SOAccount                        7656\n",
       "SOVisitFreq                      7491\n",
       "NEWOtherComms                    7256\n",
       "LanguageWorkedWith               7083\n",
       "EdLevel                          7030\n",
       "YearsCode                        6777\n",
       "Age1stCode                       6561\n",
       "NEWSOSites                       6186\n",
       "Employment                        607\n",
       "Country                           389\n",
       "MainBranch                        299\n",
       "Hobbyist                           45\n",
       "dtype: int64"
      ]
     },
     "execution_count": 534,
     "metadata": {},
     "output_type": "execute_result"
    }
   ],
   "source": [
    "missing_vals = df.isnull().sum()\n",
    "\n",
    "#selecting only columns that are missing data\n",
    "missing_vals = missing_vals[missing_vals != 0].sort_values(ascending=False)\n",
    "missing_vals"
   ]
  },
  {
   "cell_type": "markdown",
   "id": "b83771ae",
   "metadata": {
    "scrolled": true
   },
   "source": [
    "Columns without missing values."
   ]
  },
  {
   "cell_type": "code",
   "execution_count": 535,
   "id": "3583023b",
   "metadata": {
    "scrolled": true
   },
   "outputs": [
    {
     "data": {
      "text/plain": [
       "Respondent    0\n",
       "dtype: int64"
      ]
     },
     "execution_count": 535,
     "metadata": {},
     "output_type": "execute_result"
    }
   ],
   "source": [
    "not_missing_vals = df.isnull().sum()\n",
    "\n",
    "#selecting only columns that are missing data\n",
    "not_missing_vals = not_missing_vals[not_missing_vals == 0]\n",
    "not_missing_vals"
   ]
  },
  {
   "cell_type": "code",
   "execution_count": 536,
   "id": "0a0c1063",
   "metadata": {
    "scrolled": true
   },
   "outputs": [
    {
     "name": "stdout",
     "output_type": "stream",
     "text": [
      "We have 60 columns with missing data\n",
      "We have 1 columns without missing data\n"
     ]
    }
   ],
   "source": [
    "print(f'We have {missing_vals.shape[0]} columns with missing data')\n",
    "print(f'We have {df.shape[1] - missing_vals.shape[0]} columns without missing data')"
   ]
  },
  {
   "cell_type": "markdown",
   "id": "63676578",
   "metadata": {
    "scrolled": true
   },
   "source": [
    "We have 61 columns and some of these are missing almost half of the data. We will come back to this when cleaning the data."
   ]
  },
  {
   "cell_type": "markdown",
   "id": "9149bbe8",
   "metadata": {
    "scrolled": true
   },
   "source": [
    "Moving on with the exploratory analysis. We search for the column data types."
   ]
  },
  {
   "cell_type": "code",
   "execution_count": 537,
   "id": "18253669",
   "metadata": {
    "scrolled": true
   },
   "outputs": [
    {
     "data": {
      "text/plain": [
       "{'Respondent': dtype('int64'),\n",
       " 'MainBranch': dtype('O'),\n",
       " 'Hobbyist': dtype('O'),\n",
       " 'Age': dtype('float64'),\n",
       " 'Age1stCode': dtype('O'),\n",
       " 'CompFreq': dtype('O'),\n",
       " 'CompTotal': dtype('float64'),\n",
       " 'ConvertedComp': dtype('float64'),\n",
       " 'Country': dtype('O'),\n",
       " 'CurrencyDesc': dtype('O'),\n",
       " 'CurrencySymbol': dtype('O'),\n",
       " 'DatabaseDesireNextYear': dtype('O'),\n",
       " 'DatabaseWorkedWith': dtype('O'),\n",
       " 'DevType': dtype('O'),\n",
       " 'EdLevel': dtype('O'),\n",
       " 'Employment': dtype('O'),\n",
       " 'Ethnicity': dtype('O'),\n",
       " 'Gender': dtype('O'),\n",
       " 'JobFactors': dtype('O'),\n",
       " 'JobSat': dtype('O'),\n",
       " 'JobSeek': dtype('O'),\n",
       " 'LanguageDesireNextYear': dtype('O'),\n",
       " 'LanguageWorkedWith': dtype('O'),\n",
       " 'MiscTechDesireNextYear': dtype('O'),\n",
       " 'MiscTechWorkedWith': dtype('O'),\n",
       " 'NEWCollabToolsDesireNextYear': dtype('O'),\n",
       " 'NEWCollabToolsWorkedWith': dtype('O'),\n",
       " 'NEWDevOps': dtype('O'),\n",
       " 'NEWDevOpsImpt': dtype('O'),\n",
       " 'NEWEdImpt': dtype('O'),\n",
       " 'NEWJobHunt': dtype('O'),\n",
       " 'NEWJobHuntResearch': dtype('O'),\n",
       " 'NEWLearn': dtype('O'),\n",
       " 'NEWOffTopic': dtype('O'),\n",
       " 'NEWOnboardGood': dtype('O'),\n",
       " 'NEWOtherComms': dtype('O'),\n",
       " 'NEWOvertime': dtype('O'),\n",
       " 'NEWPurchaseResearch': dtype('O'),\n",
       " 'NEWPurpleLink': dtype('O'),\n",
       " 'NEWSOSites': dtype('O'),\n",
       " 'NEWStuck': dtype('O'),\n",
       " 'OpSys': dtype('O'),\n",
       " 'OrgSize': dtype('O'),\n",
       " 'PlatformDesireNextYear': dtype('O'),\n",
       " 'PlatformWorkedWith': dtype('O'),\n",
       " 'PurchaseWhat': dtype('O'),\n",
       " 'Sexuality': dtype('O'),\n",
       " 'SOAccount': dtype('O'),\n",
       " 'SOComm': dtype('O'),\n",
       " 'SOPartFreq': dtype('O'),\n",
       " 'SOVisitFreq': dtype('O'),\n",
       " 'SurveyEase': dtype('O'),\n",
       " 'SurveyLength': dtype('O'),\n",
       " 'Trans': dtype('O'),\n",
       " 'UndergradMajor': dtype('O'),\n",
       " 'WebframeDesireNextYear': dtype('O'),\n",
       " 'WebframeWorkedWith': dtype('O'),\n",
       " 'WelcomeChange': dtype('O'),\n",
       " 'WorkWeekHrs': dtype('float64'),\n",
       " 'YearsCode': dtype('O'),\n",
       " 'YearsCodePro': dtype('O')}"
      ]
     },
     "execution_count": 537,
     "metadata": {},
     "output_type": "execute_result"
    }
   ],
   "source": [
    "#printing as a dict just to see the information better.\n",
    "dict(df.dtypes)"
   ]
  },
  {
   "cell_type": "markdown",
   "id": "ddf25864",
   "metadata": {
    "scrolled": true
   },
   "source": [
    "There are a number of Objects with the wrong data types. We expect Years of Code to be an integer and not an object. We will come back to this when cutting down our dataset."
   ]
  },
  {
   "cell_type": "code",
   "execution_count": 538,
   "id": "7e9adab3",
   "metadata": {
    "scrolled": true
   },
   "outputs": [
    {
     "data": {
      "text/plain": [
       "{'Respondent': 64461,\n",
       " 'MainBranch': 5,\n",
       " 'Hobbyist': 2,\n",
       " 'Age': 110,\n",
       " 'Age1stCode': 63,\n",
       " 'CompFreq': 3,\n",
       " 'CompTotal': 3003,\n",
       " 'ConvertedComp': 6958,\n",
       " 'Country': 183,\n",
       " 'CurrencyDesc': 142,\n",
       " 'CurrencySymbol': 141,\n",
       " 'DatabaseDesireNextYear': 3193,\n",
       " 'DatabaseWorkedWith': 2808,\n",
       " 'DevType': 8269,\n",
       " 'EdLevel': 9,\n",
       " 'Employment': 7,\n",
       " 'Ethnicity': 208,\n",
       " 'Gender': 7,\n",
       " 'JobFactors': 230,\n",
       " 'JobSat': 5,\n",
       " 'JobSeek': 3,\n",
       " 'LanguageDesireNextYear': 16243,\n",
       " 'LanguageWorkedWith': 14256,\n",
       " 'MiscTechDesireNextYear': 5216,\n",
       " 'MiscTechWorkedWith': 2730,\n",
       " 'NEWCollabToolsDesireNextYear': 1277,\n",
       " 'NEWCollabToolsWorkedWith': 1153,\n",
       " 'NEWDevOps': 3,\n",
       " 'NEWDevOpsImpt': 5,\n",
       " 'NEWEdImpt': 5,\n",
       " 'NEWJobHunt': 2172,\n",
       " 'NEWJobHuntResearch': 63,\n",
       " 'NEWLearn': 4,\n",
       " 'NEWOffTopic': 3,\n",
       " 'NEWOnboardGood': 3,\n",
       " 'NEWOtherComms': 2,\n",
       " 'NEWOvertime': 5,\n",
       " 'NEWPurchaseResearch': 63,\n",
       " 'NEWPurpleLink': 4,\n",
       " 'NEWSOSites': 61,\n",
       " 'NEWStuck': 444,\n",
       " 'OpSys': 4,\n",
       " 'OrgSize': 9,\n",
       " 'PlatformDesireNextYear': 7471,\n",
       " 'PlatformWorkedWith': 6287,\n",
       " 'PurchaseWhat': 3,\n",
       " 'Sexuality': 14,\n",
       " 'SOAccount': 3,\n",
       " 'SOComm': 6,\n",
       " 'SOPartFreq': 6,\n",
       " 'SOVisitFreq': 6,\n",
       " 'SurveyEase': 3,\n",
       " 'SurveyLength': 3,\n",
       " 'Trans': 2,\n",
       " 'UndergradMajor': 12,\n",
       " 'WebframeDesireNextYear': 3986,\n",
       " 'WebframeWorkedWith': 3789,\n",
       " 'WelcomeChange': 6,\n",
       " 'WorkWeekHrs': 157,\n",
       " 'YearsCode': 52,\n",
       " 'YearsCodePro': 52}"
      ]
     },
     "execution_count": 538,
     "metadata": {},
     "output_type": "execute_result"
    }
   ],
   "source": [
    "dict(df.nunique())"
   ]
  },
  {
   "cell_type": "markdown",
   "id": "1dcf79a3",
   "metadata": {
    "scrolled": true
   },
   "source": [
    "Lastly, we will check for duplicated data"
   ]
  },
  {
   "cell_type": "code",
   "execution_count": 539,
   "id": "cceb5f1a",
   "metadata": {
    "scrolled": true
   },
   "outputs": [
    {
     "name": "stdout",
     "output_type": "stream",
     "text": [
      "We have 0 duplicated rows\n"
     ]
    }
   ],
   "source": [
    "print(f'We have {df.duplicated().sum()} duplicated rows')"
   ]
  },
  {
   "cell_type": "markdown",
   "id": "21051ff6",
   "metadata": {
    "scrolled": true
   },
   "source": [
    "## Preparing Our Data for Analysis\n",
    "\n",
    "We will drop columns that are not necessary for our questions. We are asking questions about language popularity, Job Research and Languages Used. We also need to differentiate between new and old developers."
   ]
  },
  {
   "cell_type": "markdown",
   "id": "f4aa7222",
   "metadata": {
    "scrolled": true
   },
   "source": [
    "Reading through the schema dataset, we can find columns dealing with these facts are:\n",
    "'OrgSize, YearsCode , LanguageWorkedWith, NEWJobHuntResearch, ConvertedComp'"
   ]
  },
  {
   "cell_type": "code",
   "execution_count": 540,
   "id": "23966aba",
   "metadata": {
    "scrolled": true
   },
   "outputs": [
    {
     "data": {
      "text/html": [
       "<div>\n",
       "<style scoped>\n",
       "    .dataframe tbody tr th:only-of-type {\n",
       "        vertical-align: middle;\n",
       "    }\n",
       "\n",
       "    .dataframe tbody tr th {\n",
       "        vertical-align: top;\n",
       "    }\n",
       "\n",
       "    .dataframe thead th {\n",
       "        text-align: right;\n",
       "    }\n",
       "</style>\n",
       "<table border=\"1\" class=\"dataframe\">\n",
       "  <thead>\n",
       "    <tr style=\"text-align: right;\">\n",
       "      <th></th>\n",
       "      <th>LanguageWorkedWith</th>\n",
       "      <th>OrgSize</th>\n",
       "      <th>YearsCode</th>\n",
       "      <th>NEWJobHuntResearch</th>\n",
       "      <th>ConvertedComp</th>\n",
       "    </tr>\n",
       "  </thead>\n",
       "  <tbody>\n",
       "    <tr>\n",
       "      <th>0</th>\n",
       "      <td>C#;HTML/CSS;JavaScript</td>\n",
       "      <td>2 to 9 employees</td>\n",
       "      <td>36</td>\n",
       "      <td>NaN</td>\n",
       "      <td>NaN</td>\n",
       "    </tr>\n",
       "    <tr>\n",
       "      <th>1</th>\n",
       "      <td>JavaScript;Swift</td>\n",
       "      <td>1,000 to 4,999 employees</td>\n",
       "      <td>7</td>\n",
       "      <td>NaN</td>\n",
       "      <td>NaN</td>\n",
       "    </tr>\n",
       "    <tr>\n",
       "      <th>2</th>\n",
       "      <td>Objective-C;Python;Swift</td>\n",
       "      <td>NaN</td>\n",
       "      <td>4</td>\n",
       "      <td>NaN</td>\n",
       "      <td>NaN</td>\n",
       "    </tr>\n",
       "    <tr>\n",
       "      <th>3</th>\n",
       "      <td>NaN</td>\n",
       "      <td>20 to 99 employees</td>\n",
       "      <td>7</td>\n",
       "      <td>NaN</td>\n",
       "      <td>NaN</td>\n",
       "    </tr>\n",
       "    <tr>\n",
       "      <th>4</th>\n",
       "      <td>HTML/CSS;Ruby;SQL</td>\n",
       "      <td>NaN</td>\n",
       "      <td>15</td>\n",
       "      <td>NaN</td>\n",
       "      <td>NaN</td>\n",
       "    </tr>\n",
       "  </tbody>\n",
       "</table>\n",
       "</div>"
      ],
      "text/plain": [
       "         LanguageWorkedWith                   OrgSize YearsCode  \\\n",
       "0    C#;HTML/CSS;JavaScript          2 to 9 employees        36   \n",
       "1          JavaScript;Swift  1,000 to 4,999 employees         7   \n",
       "2  Objective-C;Python;Swift                       NaN         4   \n",
       "3                       NaN        20 to 99 employees         7   \n",
       "4         HTML/CSS;Ruby;SQL                       NaN        15   \n",
       "\n",
       "  NEWJobHuntResearch  ConvertedComp  \n",
       "0                NaN            NaN  \n",
       "1                NaN            NaN  \n",
       "2                NaN            NaN  \n",
       "3                NaN            NaN  \n",
       "4                NaN            NaN  "
      ]
     },
     "execution_count": 540,
     "metadata": {},
     "output_type": "execute_result"
    }
   ],
   "source": [
    "new_df = df[['LanguageWorkedWith', 'OrgSize','YearsCode','NEWJobHuntResearch','ConvertedComp']].copy()\n",
    "new_df.head()"
   ]
  },
  {
   "cell_type": "markdown",
   "id": "fc7317a9",
   "metadata": {
    "scrolled": true
   },
   "source": [
    "To keep our dataset in it's best possible state, we will not remove *null values* but rather deal with them while analyzing our questions"
   ]
  },
  {
   "cell_type": "markdown",
   "id": "5998c564",
   "metadata": {
    "scrolled": true
   },
   "source": [
    "### Data Types\n",
    "\n",
    "We will deal with the different datatypes in our dataset, removing and converting the datatypes as necessary."
   ]
  },
  {
   "cell_type": "code",
   "execution_count": 541,
   "id": "b0eba85b",
   "metadata": {
    "scrolled": true
   },
   "outputs": [
    {
     "data": {
      "text/plain": [
       "LanguageWorkedWith     object\n",
       "OrgSize                object\n",
       "YearsCode              object\n",
       "NEWJobHuntResearch     object\n",
       "ConvertedComp         float64\n",
       "dtype: object"
      ]
     },
     "execution_count": 541,
     "metadata": {},
     "output_type": "execute_result"
    }
   ],
   "source": [
    "new_df.dtypes"
   ]
  },
  {
   "cell_type": "markdown",
   "id": "4975b292",
   "metadata": {
    "scrolled": true
   },
   "source": [
    "Of all our columns, we need YearsCode, ConvertedComp and OrgSize as integers or categorized strings"
   ]
  },
  {
   "cell_type": "markdown",
   "id": "ebc88bef",
   "metadata": {
    "scrolled": true
   },
   "source": [
    "**1. LanguageWorkedWith**"
   ]
  },
  {
   "cell_type": "markdown",
   "id": "760a23ed",
   "metadata": {
    "scrolled": true
   },
   "source": [
    "This column has strings and the right data type and so is fine."
   ]
  },
  {
   "cell_type": "code",
   "execution_count": 542,
   "id": "9f465c66",
   "metadata": {
    "scrolled": true
   },
   "outputs": [
    {
     "data": {
      "text/plain": [
       "array(['C#;HTML/CSS;JavaScript', 'JavaScript;Swift',\n",
       "       'Objective-C;Python;Swift', ...,\n",
       "       'Bash/Shell/PowerShell;C;C++;Go;HTML/CSS;JavaScript;Kotlin;Python;Ruby;Rust;SQL',\n",
       "       'Bash/Shell/PowerShell;C#;C++;HTML/CSS;JavaScript;Kotlin;PHP;SQL;VBA',\n",
       "       'Bash/Shell/PowerShell;C;C#;C++;HTML/CSS;Java;JavaScript;Objective-C;Python;Swift'],\n",
       "      dtype=object)"
      ]
     },
     "execution_count": 542,
     "metadata": {},
     "output_type": "execute_result"
    }
   ],
   "source": [
    "new_df.LanguageWorkedWith.unique()"
   ]
  },
  {
   "cell_type": "markdown",
   "id": "434278be",
   "metadata": {
    "scrolled": true
   },
   "source": [
    "**2. OrgSize**"
   ]
  },
  {
   "cell_type": "markdown",
   "id": "7e262bde",
   "metadata": {
    "scrolled": true
   },
   "source": [
    "We need to convert OrgSize to an integer but it seems we can only have categories"
   ]
  },
  {
   "cell_type": "code",
   "execution_count": 543,
   "id": "346d8351",
   "metadata": {
    "scrolled": true
   },
   "outputs": [
    {
     "data": {
      "text/plain": [
       "array(['2 to 9 employees', '1,000 to 4,999 employees', nan,\n",
       "       '20 to 99 employees',\n",
       "       'Just me - I am a freelancer, sole proprietor, etc.',\n",
       "       '10,000 or more employees', '100 to 499 employees',\n",
       "       '500 to 999 employees', '10 to 19 employees',\n",
       "       '5,000 to 9,999 employees'], dtype=object)"
      ]
     },
     "execution_count": 543,
     "metadata": {},
     "output_type": "execute_result"
    }
   ],
   "source": [
    "new_df.OrgSize.unique()"
   ]
  },
  {
   "cell_type": "markdown",
   "id": "7c73e9eb",
   "metadata": {
    "scrolled": true
   },
   "source": [
    "We can pare down the lenght of the text on the respnses with a function."
   ]
  },
  {
   "cell_type": "code",
   "execution_count": 545,
   "id": "b0dc910a",
   "metadata": {
    "scrolled": true
   },
   "outputs": [],
   "source": [
    "def clean_org_size(text):\n",
    "    '''Cleans text data by stripping out the word employees and replacing \"to\" with \"-\".\n",
    "    Return\n",
    "    Cleaned text (str) - A string of cleaned text. Will return nan if the input is not a string.\n",
    "    '''\n",
    "    \n",
    "    if not isinstance(text, str): \n",
    "        if np.isnan(text):\n",
    "            return np.nan\n",
    "    if 'freelancer' in text:\n",
    "        return 'Freelancer, sole proprietor'\n",
    "    text = text.replace('to', '-')\n",
    "    text = text.split('employees')[0].strip()\n",
    "    return text\n",
    "\n",
    "new_df['OrgSize'] = new_df['OrgSize'].apply(clean_org_size)"
   ]
  },
  {
   "cell_type": "markdown",
   "id": "76f6226c",
   "metadata": {
    "scrolled": true
   },
   "source": [
    "**3. YearsCode**"
   ]
  },
  {
   "cell_type": "markdown",
   "id": "49d1dc43",
   "metadata": {
    "scrolled": true
   },
   "source": [
    "We need to cast YearsCode to an integer"
   ]
  },
  {
   "cell_type": "code",
   "execution_count": 546,
   "id": "232ba486",
   "metadata": {
    "scrolled": true
   },
   "outputs": [
    {
     "data": {
      "text/plain": [
       "array(['36', '7', '4', '15', '6', '17', '8', '10', '35', '5', '37', '19',\n",
       "       '9', '22', '30', '23', '20', '2', 'Less than 1 year', '3', '13',\n",
       "       '25', '16', '43', '11', '38', '33', nan, '24', '21', '12', '40',\n",
       "       '27', '50', '46', '14', '18', '28', '32', '44', '26', '42', '31',\n",
       "       '34', '29', '1', '39', '41', '45', 'More than 50 years', '47',\n",
       "       '49', '48'], dtype=object)"
      ]
     },
     "execution_count": 546,
     "metadata": {},
     "output_type": "execute_result"
    }
   ],
   "source": [
    "new_df.YearsCode.unique()"
   ]
  },
  {
   "cell_type": "markdown",
   "id": "7ca9e68f",
   "metadata": {
    "scrolled": true
   },
   "source": [
    "We can deal with this after setting 'More than 50 years' to 51\n",
    "and the string values 'Less than 1 year' to 0"
   ]
  },
  {
   "cell_type": "code",
   "execution_count": 547,
   "id": "5880cf01",
   "metadata": {
    "scrolled": true
   },
   "outputs": [],
   "source": [
    "def cast_code_years(year):\n",
    "    '''Cleans integer data. \n",
    "    Return integer if given an integer, return 50 and 0 for less specific strings.\n",
    "    '''\n",
    "    if not isinstance(year, str): \n",
    "        if np.isnan(year):\n",
    "            return np.nan\n",
    "    if year == 'More than 50 years':\n",
    "        return 51\n",
    "    elif year == 'Less than 1 year':\n",
    "        return 0\n",
    "    elif year == ' ':\n",
    "        return -1\n",
    "    else:\n",
    "        return int(year)"
   ]
  },
  {
   "cell_type": "code",
   "execution_count": 548,
   "id": "2ffd67da",
   "metadata": {
    "scrolled": true
   },
   "outputs": [],
   "source": [
    "new_df['YearsCode'] = new_df['YearsCode'].apply(cast_code_years)"
   ]
  },
  {
   "cell_type": "code",
   "execution_count": 549,
   "id": "45937cbc",
   "metadata": {
    "scrolled": true
   },
   "outputs": [
    {
     "data": {
      "text/plain": [
       "array([36.,  7.,  4., 15.,  6., 17.,  8., 10., 35.,  5., 37., 19.,  9.,\n",
       "       22., 30., 23., 20.,  2.,  0.,  3., 13., 25., 16., 43., 11., 38.,\n",
       "       33., nan, 24., 21., 12., 40., 27., 50., 46., 14., 18., 28., 32.,\n",
       "       44., 26., 42., 31., 34., 29.,  1., 39., 41., 45., 51., 47., 49.,\n",
       "       48.])"
      ]
     },
     "execution_count": 549,
     "metadata": {},
     "output_type": "execute_result"
    }
   ],
   "source": [
    "new_df['YearsCode'].unique()"
   ]
  },
  {
   "cell_type": "markdown",
   "id": "968e3c1e",
   "metadata": {
    "scrolled": true
   },
   "source": [
    "**4 NEWJobHuntResearch**"
   ]
  },
  {
   "cell_type": "code",
   "execution_count": 550,
   "id": "ab9c3e6e",
   "metadata": {
    "scrolled": true
   },
   "outputs": [
    {
     "data": {
      "text/plain": [
       "array([nan,\n",
       "       'Read company media, such as employee blogs or company culture videos;Company reviews from third party sites (e.g. Glassdoor, Blind);Publicly available financial information (e.g. Crunchbase);Personal network - friends or family',\n",
       "       'Read company media, such as employee blogs or company culture videos;Company reviews from third party sites (e.g. Glassdoor, Blind);Personal network - friends or family;Read other media like news articles, founder profiles, etc. about the company',\n",
       "       'Company reviews from third party sites (e.g. Glassdoor, Blind);Publicly available financial information (e.g. Crunchbase);Personal network - friends or family;Read other media like news articles, founder profiles, etc. about the company',\n",
       "       'Read company media, such as employee blogs or company culture videos;Company reviews from third party sites (e.g. Glassdoor, Blind);Publicly available financial information (e.g. Crunchbase);Personal network - friends or family;Read other media like news articles, founder profiles, etc. about the company;Directly asking current or past employees at the company'],\n",
       "      dtype=object)"
      ]
     },
     "execution_count": 550,
     "metadata": {},
     "output_type": "execute_result"
    }
   ],
   "source": [
    "new_df.NEWJobHuntResearch.unique()[0:5]"
   ]
  },
  {
   "cell_type": "markdown",
   "id": "53ad372a",
   "metadata": {
    "scrolled": true
   },
   "source": [
    "This object is fine as is."
   ]
  },
  {
   "cell_type": "markdown",
   "id": "33116d73",
   "metadata": {
    "scrolled": true
   },
   "source": [
    "**ConvertedComp**"
   ]
  },
  {
   "cell_type": "markdown",
   "id": "96cd43bb",
   "metadata": {
    "scrolled": true
   },
   "source": [
    "We need to cast ConvertedComp to an integer"
   ]
  },
  {
   "cell_type": "code",
   "execution_count": 551,
   "id": "0850616b",
   "metadata": {
    "scrolled": true
   },
   "outputs": [
    {
     "data": {
      "text/plain": [
       "0       NaN\n",
       "1       NaN\n",
       "2       NaN\n",
       "3       NaN\n",
       "4       NaN\n",
       "         ..\n",
       "64456   NaN\n",
       "64457   NaN\n",
       "64458   NaN\n",
       "64459   NaN\n",
       "64460   NaN\n",
       "Name: ConvertedComp, Length: 64461, dtype: float64"
      ]
     },
     "execution_count": 551,
     "metadata": {},
     "output_type": "execute_result"
    }
   ],
   "source": [
    "new_df.ConvertedComp"
   ]
  },
  {
   "cell_type": "markdown",
   "id": "edbe02c7",
   "metadata": {
    "scrolled": true
   },
   "source": [
    "We have the right data type, but we'll synchronise our nans across columns"
   ]
  },
  {
   "cell_type": "code",
   "execution_count": 552,
   "id": "81c643e5",
   "metadata": {
    "scrolled": true
   },
   "outputs": [
    {
     "name": "stdout",
     "output_type": "stream",
     "text": [
      "We have: 29705 null columns\n",
      "We still have: 29705 null columns\n"
     ]
    }
   ],
   "source": [
    "print(f'We have: {np.isnan(new_df.ConvertedComp).sum()} null columns')\n",
    "\n",
    "new_df['ConvertedComp'] = new_df['ConvertedComp'].apply(lambda x: x if not np.isnan(x) else np.nan) \n",
    "\n",
    "print(f'We still have: {np.isnan(new_df.ConvertedComp).sum()} null columns')"
   ]
  },
  {
   "cell_type": "code",
   "execution_count": 553,
   "id": "2725d8e6",
   "metadata": {
    "scrolled": true
   },
   "outputs": [
    {
     "data": {
      "text/plain": [
       "0   NaN\n",
       "1   NaN\n",
       "2   NaN\n",
       "3   NaN\n",
       "4   NaN\n",
       "Name: ConvertedComp, dtype: float64"
      ]
     },
     "execution_count": 553,
     "metadata": {},
     "output_type": "execute_result"
    }
   ],
   "source": [
    "new_df['ConvertedComp'][:5]"
   ]
  },
  {
   "cell_type": "code",
   "execution_count": null,
   "id": "66acac55",
   "metadata": {
    "scrolled": true
   },
   "outputs": [],
   "source": []
  },
  {
   "cell_type": "markdown",
   "id": "d42ce318",
   "metadata": {
    "scrolled": true
   },
   "source": [
    "## Asking Our Questions"
   ]
  },
  {
   "cell_type": "markdown",
   "id": "bf5d2993",
   "metadata": {
    "scrolled": true
   },
   "source": [
    "### 1. What is the best and most popular language to start learning?"
   ]
  },
  {
   "cell_type": "code",
   "execution_count": 554,
   "id": "9cd789d2",
   "metadata": {
    "scrolled": false
   },
   "outputs": [
    {
     "data": {
      "text/plain": [
       "array(['LanguageWorkedWith',\n",
       "       'Which programming, scripting, and markup languages have you done extensive development work in over the past year, and which do you want to work in over the next year? (If you both worked with the language and want to continue to do so, please check both boxes in that row.)'],\n",
       "      dtype=object)"
      ]
     },
     "execution_count": 554,
     "metadata": {},
     "output_type": "execute_result"
    }
   ],
   "source": [
    "#We  look through the question schema for where our column is located.\n",
    "location = np.where(df.columns == 'LanguageWorkedWith')\n",
    "\n",
    "question_df.loc[location].values[0]"
   ]
  },
  {
   "cell_type": "code",
   "execution_count": 555,
   "id": "7d5a75a3",
   "metadata": {
    "scrolled": false
   },
   "outputs": [
    {
     "data": {
      "text/html": [
       "<div>\n",
       "<style scoped>\n",
       "    .dataframe tbody tr th:only-of-type {\n",
       "        vertical-align: middle;\n",
       "    }\n",
       "\n",
       "    .dataframe tbody tr th {\n",
       "        vertical-align: top;\n",
       "    }\n",
       "\n",
       "    .dataframe thead th {\n",
       "        text-align: right;\n",
       "    }\n",
       "</style>\n",
       "<table border=\"1\" class=\"dataframe\">\n",
       "  <thead>\n",
       "    <tr style=\"text-align: right;\">\n",
       "      <th></th>\n",
       "      <th>0</th>\n",
       "      <th>1</th>\n",
       "      <th>2</th>\n",
       "      <th>3</th>\n",
       "      <th>4</th>\n",
       "      <th>5</th>\n",
       "      <th>6</th>\n",
       "      <th>7</th>\n",
       "      <th>8</th>\n",
       "      <th>9</th>\n",
       "      <th>...</th>\n",
       "      <th>15</th>\n",
       "      <th>16</th>\n",
       "      <th>17</th>\n",
       "      <th>18</th>\n",
       "      <th>19</th>\n",
       "      <th>20</th>\n",
       "      <th>21</th>\n",
       "      <th>22</th>\n",
       "      <th>23</th>\n",
       "      <th>24</th>\n",
       "    </tr>\n",
       "  </thead>\n",
       "  <tbody>\n",
       "    <tr>\n",
       "      <th>0</th>\n",
       "      <td>C#</td>\n",
       "      <td>HTML/CSS</td>\n",
       "      <td>JavaScript</td>\n",
       "      <td>None</td>\n",
       "      <td>None</td>\n",
       "      <td>None</td>\n",
       "      <td>None</td>\n",
       "      <td>None</td>\n",
       "      <td>None</td>\n",
       "      <td>None</td>\n",
       "      <td>...</td>\n",
       "      <td>None</td>\n",
       "      <td>None</td>\n",
       "      <td>None</td>\n",
       "      <td>None</td>\n",
       "      <td>None</td>\n",
       "      <td>None</td>\n",
       "      <td>None</td>\n",
       "      <td>None</td>\n",
       "      <td>None</td>\n",
       "      <td>None</td>\n",
       "    </tr>\n",
       "    <tr>\n",
       "      <th>1</th>\n",
       "      <td>JavaScript</td>\n",
       "      <td>Swift</td>\n",
       "      <td>None</td>\n",
       "      <td>None</td>\n",
       "      <td>None</td>\n",
       "      <td>None</td>\n",
       "      <td>None</td>\n",
       "      <td>None</td>\n",
       "      <td>None</td>\n",
       "      <td>None</td>\n",
       "      <td>...</td>\n",
       "      <td>None</td>\n",
       "      <td>None</td>\n",
       "      <td>None</td>\n",
       "      <td>None</td>\n",
       "      <td>None</td>\n",
       "      <td>None</td>\n",
       "      <td>None</td>\n",
       "      <td>None</td>\n",
       "      <td>None</td>\n",
       "      <td>None</td>\n",
       "    </tr>\n",
       "    <tr>\n",
       "      <th>2</th>\n",
       "      <td>Objective-C</td>\n",
       "      <td>Python</td>\n",
       "      <td>Swift</td>\n",
       "      <td>None</td>\n",
       "      <td>None</td>\n",
       "      <td>None</td>\n",
       "      <td>None</td>\n",
       "      <td>None</td>\n",
       "      <td>None</td>\n",
       "      <td>None</td>\n",
       "      <td>...</td>\n",
       "      <td>None</td>\n",
       "      <td>None</td>\n",
       "      <td>None</td>\n",
       "      <td>None</td>\n",
       "      <td>None</td>\n",
       "      <td>None</td>\n",
       "      <td>None</td>\n",
       "      <td>None</td>\n",
       "      <td>None</td>\n",
       "      <td>None</td>\n",
       "    </tr>\n",
       "  </tbody>\n",
       "</table>\n",
       "<p>3 rows × 25 columns</p>\n",
       "</div>"
      ],
      "text/plain": [
       "            0         1           2     3     4     5     6     7     8   \\\n",
       "0           C#  HTML/CSS  JavaScript  None  None  None  None  None  None   \n",
       "1   JavaScript     Swift        None  None  None  None  None  None  None   \n",
       "2  Objective-C    Python       Swift  None  None  None  None  None  None   \n",
       "\n",
       "     9   ...    15    16    17    18    19    20    21    22    23    24  \n",
       "0  None  ...  None  None  None  None  None  None  None  None  None  None  \n",
       "1  None  ...  None  None  None  None  None  None  None  None  None  None  \n",
       "2  None  ...  None  None  None  None  None  None  None  None  None  None  \n",
       "\n",
       "[3 rows x 25 columns]"
      ]
     },
     "execution_count": 555,
     "metadata": {},
     "output_type": "execute_result"
    }
   ],
   "source": [
    "lang_df = new_df['LanguageWorkedWith'].dropna().reset_index()\n",
    "\n",
    "lang_df = lang_df['LanguageWorkedWith'].str.split(';', expand=True)\n",
    "lang_df.head(3)"
   ]
  },
  {
   "cell_type": "code",
   "execution_count": 556,
   "id": "a5f8b11e",
   "metadata": {
    "scrolled": false
   },
   "outputs": [
    {
     "data": {
      "text/html": [
       "<div>\n",
       "<style scoped>\n",
       "    .dataframe tbody tr th:only-of-type {\n",
       "        vertical-align: middle;\n",
       "    }\n",
       "\n",
       "    .dataframe tbody tr th {\n",
       "        vertical-align: top;\n",
       "    }\n",
       "\n",
       "    .dataframe thead th {\n",
       "        text-align: right;\n",
       "    }\n",
       "</style>\n",
       "<table border=\"1\" class=\"dataframe\">\n",
       "  <thead>\n",
       "    <tr style=\"text-align: right;\">\n",
       "      <th></th>\n",
       "      <th>Languages</th>\n",
       "    </tr>\n",
       "  </thead>\n",
       "  <tbody>\n",
       "    <tr>\n",
       "      <th>0</th>\n",
       "      <td>C#</td>\n",
       "    </tr>\n",
       "    <tr>\n",
       "      <th>1</th>\n",
       "      <td>HTML/CSS</td>\n",
       "    </tr>\n",
       "    <tr>\n",
       "      <th>2</th>\n",
       "      <td>JavaScript</td>\n",
       "    </tr>\n",
       "    <tr>\n",
       "      <th>25</th>\n",
       "      <td>JavaScript</td>\n",
       "    </tr>\n",
       "    <tr>\n",
       "      <th>26</th>\n",
       "      <td>Swift</td>\n",
       "    </tr>\n",
       "  </tbody>\n",
       "</table>\n",
       "</div>"
      ],
      "text/plain": [
       "     Languages\n",
       "0           C#\n",
       "1     HTML/CSS\n",
       "2   JavaScript\n",
       "25  JavaScript\n",
       "26       Swift"
      ]
     },
     "execution_count": 556,
     "metadata": {},
     "output_type": "execute_result"
    }
   ],
   "source": [
    "lang_df = pd.DataFrame(lang_df.values.reshape(-1,1), columns=['Languages']).dropna()\n",
    "\n",
    "#We arrange all the languages under one column we can count\n",
    "lang_df.head()"
   ]
  },
  {
   "cell_type": "code",
   "execution_count": 557,
   "id": "5ff76df7",
   "metadata": {
    "scrolled": true
   },
   "outputs": [
    {
     "data": {
      "text/html": [
       "<div>\n",
       "<style scoped>\n",
       "    .dataframe tbody tr th:only-of-type {\n",
       "        vertical-align: middle;\n",
       "    }\n",
       "\n",
       "    .dataframe tbody tr th {\n",
       "        vertical-align: top;\n",
       "    }\n",
       "\n",
       "    .dataframe thead th {\n",
       "        text-align: right;\n",
       "    }\n",
       "</style>\n",
       "<table border=\"1\" class=\"dataframe\">\n",
       "  <thead>\n",
       "    <tr style=\"text-align: right;\">\n",
       "      <th></th>\n",
       "      <th>Languages</th>\n",
       "      <th>counts</th>\n",
       "    </tr>\n",
       "  </thead>\n",
       "  <tbody>\n",
       "    <tr>\n",
       "      <th>0</th>\n",
       "      <td>JavaScript</td>\n",
       "      <td>38822</td>\n",
       "    </tr>\n",
       "    <tr>\n",
       "      <th>1</th>\n",
       "      <td>HTML/CSS</td>\n",
       "      <td>36181</td>\n",
       "    </tr>\n",
       "    <tr>\n",
       "      <th>2</th>\n",
       "      <td>SQL</td>\n",
       "      <td>31413</td>\n",
       "    </tr>\n",
       "    <tr>\n",
       "      <th>3</th>\n",
       "      <td>Python</td>\n",
       "      <td>25287</td>\n",
       "    </tr>\n",
       "    <tr>\n",
       "      <th>4</th>\n",
       "      <td>Java</td>\n",
       "      <td>23074</td>\n",
       "    </tr>\n",
       "  </tbody>\n",
       "</table>\n",
       "</div>"
      ],
      "text/plain": [
       "    Languages  counts\n",
       "0  JavaScript   38822\n",
       "1    HTML/CSS   36181\n",
       "2         SQL   31413\n",
       "3      Python   25287\n",
       "4        Java   23074"
      ]
     },
     "execution_count": 557,
     "metadata": {},
     "output_type": "execute_result"
    }
   ],
   "source": [
    "lang_df = lang_df.value_counts().reset_index()\n",
    "lang_df = lang_df.rename(columns={0:'counts'}).sort_values('counts', ascending=False)\n",
    "lang_df.head()"
   ]
  },
  {
   "cell_type": "markdown",
   "id": "d19ff7d1",
   "metadata": {
    "scrolled": true
   },
   "source": [
    "Creating Our Bar Chart on the most popular languages"
   ]
  },
  {
   "cell_type": "code",
   "execution_count": 558,
   "id": "b33c4168",
   "metadata": {
    "scrolled": false
   },
   "outputs": [
    {
     "data": {
      "image/png": "[encoded data removed]",
      "text/plain": [
       "<Figure size 864x720 with 1 Axes>"
      ]
     },
     "metadata": {},
     "output_type": "display_data"
    }
   ],
   "source": [
    "f, ax = plt.subplots(figsize=(12,10))\n",
    "sns.barplot(x='counts', y='Languages', \n",
    "              color=sns.color_palette()[0],\n",
    "              data=lang_df, ax=ax);\n",
    "\n",
    "ax.set(ylabel=None)\n",
    "ax.set_title('Language Popularity By Usage');"
   ]
  },
  {
   "cell_type": "markdown",
   "id": "0327855b",
   "metadata": {},
   "source": [
    "Javascript is unsuprisingly the most popular, followed by HMTL/CSS (also expected). SQL and then Python."
   ]
  },
  {
   "cell_type": "code",
   "execution_count": null,
   "id": "821ba679",
   "metadata": {},
   "outputs": [],
   "source": []
  },
  {
   "cell_type": "markdown",
   "id": "70ca408e",
   "metadata": {
    "scrolled": true
   },
   "source": [
    "### 2. How do Developers Search For New Jobs?"
   ]
  },
  {
   "cell_type": "code",
   "execution_count": 561,
   "id": "b463f603",
   "metadata": {
    "scrolled": false
   },
   "outputs": [
    {
     "data": {
      "text/plain": [
       "array(['NEWJobHuntResearch',\n",
       "       'When job searching, how do you learn more about a company? Select all that apply.'],\n",
       "      dtype=object)"
      ]
     },
     "execution_count": 561,
     "metadata": {},
     "output_type": "execute_result"
    }
   ],
   "source": [
    "#We  look through the question schema for where our column is located.\n",
    "location = np.where(df.columns == 'NEWJobHuntResearch')\n",
    "\n",
    "question_df.loc[location].values[0]"
   ]
  },
  {
   "cell_type": "code",
   "execution_count": 562,
   "id": "c0200551",
   "metadata": {
    "scrolled": true
   },
   "outputs": [],
   "source": [
    "search_df = new_df['NEWJobHuntResearch'].dropna().reset_index()"
   ]
  },
  {
   "cell_type": "code",
   "execution_count": 563,
   "id": "a42f56e0",
   "metadata": {
    "scrolled": true
   },
   "outputs": [
    {
     "data": {
      "text/html": [
       "<div>\n",
       "<style scoped>\n",
       "    .dataframe tbody tr th:only-of-type {\n",
       "        vertical-align: middle;\n",
       "    }\n",
       "\n",
       "    .dataframe tbody tr th {\n",
       "        vertical-align: top;\n",
       "    }\n",
       "\n",
       "    .dataframe thead th {\n",
       "        text-align: right;\n",
       "    }\n",
       "</style>\n",
       "<table border=\"1\" class=\"dataframe\">\n",
       "  <thead>\n",
       "    <tr style=\"text-align: right;\">\n",
       "      <th></th>\n",
       "      <th>0</th>\n",
       "      <th>1</th>\n",
       "      <th>2</th>\n",
       "      <th>3</th>\n",
       "      <th>4</th>\n",
       "      <th>5</th>\n",
       "    </tr>\n",
       "  </thead>\n",
       "  <tbody>\n",
       "    <tr>\n",
       "      <th>0</th>\n",
       "      <td>Read company media, such as employee blogs or ...</td>\n",
       "      <td>Company reviews from third party sites (e.g. G...</td>\n",
       "      <td>Publicly available financial information (e.g....</td>\n",
       "      <td>Personal network - friends or family</td>\n",
       "      <td>None</td>\n",
       "      <td>None</td>\n",
       "    </tr>\n",
       "    <tr>\n",
       "      <th>1</th>\n",
       "      <td>Read company media, such as employee blogs or ...</td>\n",
       "      <td>Company reviews from third party sites (e.g. G...</td>\n",
       "      <td>Personal network - friends or family</td>\n",
       "      <td>Read other media like news articles, founder p...</td>\n",
       "      <td>None</td>\n",
       "      <td>None</td>\n",
       "    </tr>\n",
       "    <tr>\n",
       "      <th>2</th>\n",
       "      <td>Company reviews from third party sites (e.g. G...</td>\n",
       "      <td>Publicly available financial information (e.g....</td>\n",
       "      <td>Personal network - friends or family</td>\n",
       "      <td>Read other media like news articles, founder p...</td>\n",
       "      <td>None</td>\n",
       "      <td>None</td>\n",
       "    </tr>\n",
       "  </tbody>\n",
       "</table>\n",
       "</div>"
      ],
      "text/plain": [
       "                                                   0  \\\n",
       "0  Read company media, such as employee blogs or ...   \n",
       "1  Read company media, such as employee blogs or ...   \n",
       "2  Company reviews from third party sites (e.g. G...   \n",
       "\n",
       "                                                   1  \\\n",
       "0  Company reviews from third party sites (e.g. G...   \n",
       "1  Company reviews from third party sites (e.g. G...   \n",
       "2  Publicly available financial information (e.g....   \n",
       "\n",
       "                                                   2  \\\n",
       "0  Publicly available financial information (e.g....   \n",
       "1               Personal network - friends or family   \n",
       "2               Personal network - friends or family   \n",
       "\n",
       "                                                   3     4     5  \n",
       "0               Personal network - friends or family  None  None  \n",
       "1  Read other media like news articles, founder p...  None  None  \n",
       "2  Read other media like news articles, founder p...  None  None  "
      ]
     },
     "execution_count": 563,
     "metadata": {},
     "output_type": "execute_result"
    }
   ],
   "source": [
    "search_df = search_df['NEWJobHuntResearch'].str.split(';', expand=True)\n",
    "search_df.head(3)"
   ]
  },
  {
   "cell_type": "code",
   "execution_count": 564,
   "id": "9e5008b2",
   "metadata": {
    "scrolled": true
   },
   "outputs": [],
   "source": [
    "search_df = pd.DataFrame(search_df.values.reshape(-1,1),columns=['Responses']).dropna()"
   ]
  },
  {
   "cell_type": "code",
   "execution_count": 565,
   "id": "ec0c5b7c",
   "metadata": {
    "scrolled": false
   },
   "outputs": [
    {
     "data": {
      "text/html": [
       "<div>\n",
       "<style scoped>\n",
       "    .dataframe tbody tr th:only-of-type {\n",
       "        vertical-align: middle;\n",
       "    }\n",
       "\n",
       "    .dataframe tbody tr th {\n",
       "        vertical-align: top;\n",
       "    }\n",
       "\n",
       "    .dataframe thead th {\n",
       "        text-align: right;\n",
       "    }\n",
       "</style>\n",
       "<table border=\"1\" class=\"dataframe\">\n",
       "  <thead>\n",
       "    <tr style=\"text-align: right;\">\n",
       "      <th></th>\n",
       "      <th>Responses</th>\n",
       "      <th>counts</th>\n",
       "    </tr>\n",
       "  </thead>\n",
       "  <tbody>\n",
       "    <tr>\n",
       "      <th>0</th>\n",
       "      <td>Company reviews from third party sites (e.g. G...</td>\n",
       "      <td>28549</td>\n",
       "    </tr>\n",
       "    <tr>\n",
       "      <th>1</th>\n",
       "      <td>Read company media, such as employee blogs or ...</td>\n",
       "      <td>26777</td>\n",
       "    </tr>\n",
       "    <tr>\n",
       "      <th>2</th>\n",
       "      <td>Personal network - friends or family</td>\n",
       "      <td>25989</td>\n",
       "    </tr>\n",
       "    <tr>\n",
       "      <th>3</th>\n",
       "      <td>Read other media like news articles, founder p...</td>\n",
       "      <td>20187</td>\n",
       "    </tr>\n",
       "    <tr>\n",
       "      <th>4</th>\n",
       "      <td>Directly asking current or past employees at t...</td>\n",
       "      <td>14840</td>\n",
       "    </tr>\n",
       "    <tr>\n",
       "      <th>5</th>\n",
       "      <td>Publicly available financial information (e.g....</td>\n",
       "      <td>10823</td>\n",
       "    </tr>\n",
       "  </tbody>\n",
       "</table>\n",
       "</div>"
      ],
      "text/plain": [
       "                                           Responses  counts\n",
       "0  Company reviews from third party sites (e.g. G...   28549\n",
       "1  Read company media, such as employee blogs or ...   26777\n",
       "2               Personal network - friends or family   25989\n",
       "3  Read other media like news articles, founder p...   20187\n",
       "4  Directly asking current or past employees at t...   14840\n",
       "5  Publicly available financial information (e.g....   10823"
      ]
     },
     "execution_count": 565,
     "metadata": {},
     "output_type": "execute_result"
    }
   ],
   "source": [
    "search_df = search_df.value_counts().reset_index()\n",
    "search_df = search_df.rename(columns={0:'counts'}).sort_values('counts', ascending=False)\n",
    "search_df"
   ]
  },
  {
   "cell_type": "code",
   "execution_count": 566,
   "id": "7da61dd7",
   "metadata": {
    "scrolled": false
   },
   "outputs": [
    {
     "data": {
      "image/png": "[encoded data removed]",
      "text/plain": [
       "<Figure size 720x504 with 1 Axes>"
      ]
     },
     "metadata": {},
     "output_type": "display_data"
    }
   ],
   "source": [
    "f, ax = plt.subplots(figsize=(10,7))\n",
    "sns.barplot(x='counts', y='Responses', \n",
    "              color=sns.color_palette()[0],\n",
    "              data=search_df, ax=ax);\n",
    "\n",
    "ax.set(ylabel=None)\n",
    "ax.set_xticks(range(0,30000,2500))\n",
    "ax.set_title('Developer Response On How To Find New Jobs');"
   ]
  },
  {
   "cell_type": "markdown",
   "id": "0c40bdf7",
   "metadata": {
    "scrolled": false
   },
   "source": [
    "Also, not very surprising that a large number of people use Glassdoor. Pretty much all profession benefit from its wonders."
   ]
  },
  {
   "cell_type": "code",
   "execution_count": null,
   "id": "8c308784",
   "metadata": {},
   "outputs": [],
   "source": []
  },
  {
   "cell_type": "markdown",
   "id": "5a9b0866",
   "metadata": {
    "scrolled": true
   },
   "source": [
    "### 3. What size of Organization Do New Developers Typically Join?"
   ]
  },
  {
   "cell_type": "markdown",
   "id": "bd08c3fd",
   "metadata": {
    "scrolled": true
   },
   "source": [
    "To answer this question, we can look at our original dataset and identify the exact question on Org Size "
   ]
  },
  {
   "cell_type": "code",
   "execution_count": 591,
   "id": "e5d495ae",
   "metadata": {
    "scrolled": false
   },
   "outputs": [
    {
     "data": {
      "text/plain": [
       "array(['OrgSize',\n",
       "       'Approximately how many people are employed by the company or organization you currently work for?'],\n",
       "      dtype=object)"
      ]
     },
     "execution_count": 591,
     "metadata": {},
     "output_type": "execute_result"
    }
   ],
   "source": [
    "#We  look through the question schema for where our column is located.\n",
    "location = np.where(df.columns == 'OrgSize')\n",
    "\n",
    "question_df.loc[location].values[0]"
   ]
  },
  {
   "cell_type": "code",
   "execution_count": 592,
   "id": "ab9adddc",
   "metadata": {
    "scrolled": true
   },
   "outputs": [
    {
     "data": {
      "text/html": [
       "<div>\n",
       "<style scoped>\n",
       "    .dataframe tbody tr th:only-of-type {\n",
       "        vertical-align: middle;\n",
       "    }\n",
       "\n",
       "    .dataframe tbody tr th {\n",
       "        vertical-align: top;\n",
       "    }\n",
       "\n",
       "    .dataframe thead th {\n",
       "        text-align: right;\n",
       "    }\n",
       "</style>\n",
       "<table border=\"1\" class=\"dataframe\">\n",
       "  <thead>\n",
       "    <tr style=\"text-align: right;\">\n",
       "      <th></th>\n",
       "      <th>OrgSize</th>\n",
       "      <th>YearsCode</th>\n",
       "    </tr>\n",
       "  </thead>\n",
       "  <tbody>\n",
       "    <tr>\n",
       "      <th>0</th>\n",
       "      <td>2 - 9</td>\n",
       "      <td>36.0</td>\n",
       "    </tr>\n",
       "    <tr>\n",
       "      <th>1</th>\n",
       "      <td>1,000 - 4,999</td>\n",
       "      <td>7.0</td>\n",
       "    </tr>\n",
       "  </tbody>\n",
       "</table>\n",
       "</div>"
      ],
      "text/plain": [
       "         OrgSize  YearsCode\n",
       "0          2 - 9       36.0\n",
       "1  1,000 - 4,999        7.0"
      ]
     },
     "execution_count": 592,
     "metadata": {},
     "output_type": "execute_result"
    }
   ],
   "source": [
    "years_df = new_df[(~new_df.YearsCode.isnull()) & (~new_df.OrgSize.isnull())].copy()\n",
    "years_df = years_df[['OrgSize','YearsCode']]\n",
    "years_df.head(2)"
   ]
  },
  {
   "cell_type": "markdown",
   "id": "e2587699",
   "metadata": {
    "scrolled": true
   },
   "source": [
    "We can define new developers as developers with less than 3 years of experience."
   ]
  },
  {
   "cell_type": "code",
   "execution_count": 601,
   "id": "7fc74d66",
   "metadata": {
    "scrolled": false
   },
   "outputs": [],
   "source": [
    "def plot_size(devs_df, title, color=0):\n",
    "    '''\n",
    "    A helper function to plot charts of organisation sizes against developers\n",
    "    \n",
    "    Args\n",
    "    devs_df (dataframe) - A dataframe of developer organisation counts \n",
    "    title (str) - Title of the plot\n",
    "    '''\n",
    "    org_count = devs_df['OrgSize'].value_counts()\n",
    "    org_count = org_count.reset_index().rename(columns={'index':'Org Size','OrgSize':'counts'})\n",
    "\n",
    "    f, ax = plt.subplots(figsize=(10,6))\n",
    "    ax = sns.barplot(x='counts', y='Org Size', \n",
    "                  color=sns.color_palette()[color],\n",
    "                  data=org_count, ax=ax);\n",
    "\n",
    "    ax.set_title(title);\n",
    "    ax.set_xlabel('Number of Developers');\n",
    "    ax.set_ylabel('Organisation Size');"
   ]
  },
  {
   "cell_type": "code",
   "execution_count": 602,
   "id": "b79dcd01",
   "metadata": {
    "scrolled": true
   },
   "outputs": [],
   "source": [
    "new_devs_df = years_df[years_df['YearsCode'] <= 3]"
   ]
  },
  {
   "cell_type": "code",
   "execution_count": 621,
   "id": "860f7e3c",
   "metadata": {
    "scrolled": true
   },
   "outputs": [
    {
     "data": {
      "image/png": "[encoded data removed]",
      "text/plain": [
       "<Figure size 720x432 with 1 Axes>"
      ]
     },
     "metadata": {},
     "output_type": "display_data"
    }
   ],
   "source": [
    "plot_size(new_devs_df, 'Organisations Sizes Developers (< 3 years exp) Are Joining',0)"
   ]
  },
  {
   "cell_type": "markdown",
   "id": "5b480a63",
   "metadata": {
    "scrolled": false
   },
   "source": [
    "Medium-Large organisations are definitely doing the heavy lifting on hiring new developers."
   ]
  },
  {
   "cell_type": "code",
   "execution_count": 611,
   "id": "3ecc88e7",
   "metadata": {
    "scrolled": true
   },
   "outputs": [],
   "source": [
    "med_devs_df = years_df[(years_df['YearsCode'] > 3) & (years_df['YearsCode'] <= 10)]"
   ]
  },
  {
   "cell_type": "code",
   "execution_count": 612,
   "id": "902ba8b3",
   "metadata": {
    "scrolled": false
   },
   "outputs": [
    {
     "data": {
      "image/png": "[encoded data removed]",
      "text/plain": [
       "<Figure size 720x432 with 1 Axes>"
      ]
     },
     "metadata": {},
     "output_type": "display_data"
    }
   ],
   "source": [
    "plot_size(med_devs_df, 'Organisations Sizes Developers (Between 3 and 10 years exp) Are Joining', 1)"
   ]
  },
  {
   "cell_type": "markdown",
   "id": "d436c58d",
   "metadata": {
    "scrolled": false
   },
   "source": [
    "The same for medium experience developers. Medium-Large organisations are definitely doing the heavy lifting."
   ]
  },
  {
   "cell_type": "code",
   "execution_count": 613,
   "id": "f1b56ba0",
   "metadata": {
    "scrolled": true
   },
   "outputs": [],
   "source": [
    "old_devs_df = years_df[(years_df['YearsCode'] > 10) & (years_df['YearsCode'] < 30)]"
   ]
  },
  {
   "cell_type": "code",
   "execution_count": 614,
   "id": "fa5e3263",
   "metadata": {
    "scrolled": false
   },
   "outputs": [
    {
     "data": {
      "image/png": "[encoded data removed]",
      "text/plain": [
       "<Figure size 720x432 with 1 Axes>"
      ]
     },
     "metadata": {},
     "output_type": "display_data"
    }
   ],
   "source": [
    "plot_size(old_devs_df, 'Organisations Sizes on Developers (Between 10 and 30 years exp) Are Joining', 2)"
   ]
  },
  {
   "cell_type": "code",
   "execution_count": 616,
   "id": "e9dbfe5b",
   "metadata": {
    "scrolled": true
   },
   "outputs": [],
   "source": [
    "oldest_devs_df = years_df[(years_df['YearsCode'] > 30)]"
   ]
  },
  {
   "cell_type": "code",
   "execution_count": 619,
   "id": "e287f612",
   "metadata": {
    "scrolled": false
   },
   "outputs": [
    {
     "data": {
      "image/png": "[encoded data removed]",
      "text/plain": [
       "<Figure size 720x432 with 1 Axes>"
      ]
     },
     "metadata": {},
     "output_type": "display_data"
    }
   ],
   "source": [
    "plot_size(oldest_devs_df, 'Organisations Sizes on Developers (Over 30 years) Are Joining', 3)"
   ]
  },
  {
   "cell_type": "markdown",
   "id": "5f362ce8",
   "metadata": {
    "scrolled": false
   },
   "source": [
    "We can definitely very small changes with regards to organizations hiring"
   ]
  },
  {
   "cell_type": "markdown",
   "id": "ab65f5a5",
   "metadata": {
    "scrolled": true
   },
   "source": [
    "### 4. How much are new developers earning?"
   ]
  },
  {
   "cell_type": "code",
   "execution_count": 691,
   "id": "13c91356",
   "metadata": {
    "scrolled": false
   },
   "outputs": [
    {
     "data": {
      "text/plain": [
       "array(['ConvertedComp',\n",
       "       'Salary converted to annual USD salaries using the exchange rate on 2020-02-19, assuming 12 working months and 50 working weeks.'],\n",
       "      dtype=object)"
      ]
     },
     "execution_count": 691,
     "metadata": {},
     "output_type": "execute_result"
    }
   ],
   "source": [
    "#We  look through the question schema for where our column is located.\n",
    "location = np.where(df.columns == 'ConvertedComp')\n",
    "\n",
    "question_df.loc[location].values[0]"
   ]
  },
  {
   "cell_type": "code",
   "execution_count": 674,
   "id": "7b1b4c07",
   "metadata": {
    "scrolled": true
   },
   "outputs": [
    {
     "data": {
      "text/html": [
       "<div>\n",
       "<style scoped>\n",
       "    .dataframe tbody tr th:only-of-type {\n",
       "        vertical-align: middle;\n",
       "    }\n",
       "\n",
       "    .dataframe tbody tr th {\n",
       "        vertical-align: top;\n",
       "    }\n",
       "\n",
       "    .dataframe thead th {\n",
       "        text-align: right;\n",
       "    }\n",
       "</style>\n",
       "<table border=\"1\" class=\"dataframe\">\n",
       "  <thead>\n",
       "    <tr style=\"text-align: right;\">\n",
       "      <th></th>\n",
       "      <th>ConvertedComp</th>\n",
       "      <th>YearsCode</th>\n",
       "    </tr>\n",
       "  </thead>\n",
       "  <tbody>\n",
       "    <tr>\n",
       "      <th>7</th>\n",
       "      <td>116000.0</td>\n",
       "      <td>17.0</td>\n",
       "    </tr>\n",
       "    <tr>\n",
       "      <th>9</th>\n",
       "      <td>32315.0</td>\n",
       "      <td>8.0</td>\n",
       "    </tr>\n",
       "  </tbody>\n",
       "</table>\n",
       "</div>"
      ],
      "text/plain": [
       "   ConvertedComp  YearsCode\n",
       "7       116000.0       17.0\n",
       "9        32315.0        8.0"
      ]
     },
     "execution_count": 674,
     "metadata": {},
     "output_type": "execute_result"
    }
   ],
   "source": [
    "ages_df = new_df[(~new_df.YearsCode.isnull()) & (~new_df.ConvertedComp.isnull())].copy()\n",
    "ages_df = ages_df[['ConvertedComp','YearsCode']]\n",
    "ages_df.head(2)"
   ]
  },
  {
   "cell_type": "code",
   "execution_count": 675,
   "id": "5923b7c8",
   "metadata": {},
   "outputs": [],
   "source": [
    "new_devs = ages_df[ages_df['YearsCode'] <= 3]"
   ]
  },
  {
   "cell_type": "code",
   "execution_count": 676,
   "id": "b7929a72",
   "metadata": {},
   "outputs": [
    {
     "data": {
      "text/html": [
       "<div>\n",
       "<style scoped>\n",
       "    .dataframe tbody tr th:only-of-type {\n",
       "        vertical-align: middle;\n",
       "    }\n",
       "\n",
       "    .dataframe tbody tr th {\n",
       "        vertical-align: top;\n",
       "    }\n",
       "\n",
       "    .dataframe thead th {\n",
       "        text-align: right;\n",
       "    }\n",
       "</style>\n",
       "<table border=\"1\" class=\"dataframe\">\n",
       "  <thead>\n",
       "    <tr style=\"text-align: right;\">\n",
       "      <th></th>\n",
       "      <th>YearsCode</th>\n",
       "      <th>ConvertedComp</th>\n",
       "    </tr>\n",
       "  </thead>\n",
       "  <tbody>\n",
       "    <tr>\n",
       "      <th>0</th>\n",
       "      <td>0.0</td>\n",
       "      <td>66783.621951</td>\n",
       "    </tr>\n",
       "    <tr>\n",
       "      <th>1</th>\n",
       "      <td>1.0</td>\n",
       "      <td>99947.768473</td>\n",
       "    </tr>\n",
       "    <tr>\n",
       "      <th>2</th>\n",
       "      <td>2.0</td>\n",
       "      <td>80056.653620</td>\n",
       "    </tr>\n",
       "    <tr>\n",
       "      <th>3</th>\n",
       "      <td>3.0</td>\n",
       "      <td>61442.297242</td>\n",
       "    </tr>\n",
       "  </tbody>\n",
       "</table>\n",
       "</div>"
      ],
      "text/plain": [
       "   YearsCode  ConvertedComp\n",
       "0        0.0   66783.621951\n",
       "1        1.0   99947.768473\n",
       "2        2.0   80056.653620\n",
       "3        3.0   61442.297242"
      ]
     },
     "execution_count": 676,
     "metadata": {},
     "output_type": "execute_result"
    }
   ],
   "source": [
    "new_devs_salary = new_devs.groupby('YearsCode').mean().reset_index()\n",
    "new_devs_salary.head()"
   ]
  },
  {
   "cell_type": "code",
   "execution_count": 690,
   "id": "4c7ecd0c",
   "metadata": {},
   "outputs": [
    {
     "data": {
      "image/png": "[encoded data removed]",
      "text/plain": [
       "<Figure size 720x504 with 1 Axes>"
      ]
     },
     "metadata": {},
     "output_type": "display_data"
    }
   ],
   "source": [
    "f, ax = plt.subplots(figsize=(10,7))\n",
    "sns.barplot(x='YearsCode', y='ConvertedComp', \n",
    "              color=sns.color_palette()[2],\n",
    "              data=new_devs_salary, ax=ax);\n",
    "\n",
    "ax.set_title('Mean Salaries by Years Of Code for Younger Devs (< 3 Years Exp)');\n",
    "ax.set_ylabel('Compensation $(USD)');"
   ]
  },
  {
   "cell_type": "markdown",
   "id": "19116129",
   "metadata": {},
   "source": [
    "Now this should be surprising but we have to remember that a large number of devs did no disclose their salary information. Infact, this salary information had the highest number of missing values with 29705/64461 missing."
   ]
  },
  {
   "cell_type": "code",
   "execution_count": 687,
   "id": "162ee0e1",
   "metadata": {},
   "outputs": [
    {
     "name": "stdout",
     "output_type": "stream",
     "text": [
      "The top three missing columns\n"
     ]
    },
    {
     "data": {
      "text/plain": [
       "ConvertedComp          29705\n",
       "CompTotal              29635\n",
       "NEWPurchaseResearch    27140\n",
       "dtype: int64"
      ]
     },
     "execution_count": 687,
     "metadata": {},
     "output_type": "execute_result"
    }
   ],
   "source": [
    "print('The top three missing columns') \n",
    "missing_vals[:3]"
   ]
  },
  {
   "cell_type": "code",
   "execution_count": 692,
   "id": "80c48578",
   "metadata": {},
   "outputs": [
    {
     "name": "stdout",
     "output_type": "stream",
     "text": [
      "We have 64461 rows\n"
     ]
    }
   ],
   "source": [
    "print(f'We have {df.shape[0]} rows') "
   ]
  },
  {
   "cell_type": "markdown",
   "id": "2a302f39",
   "metadata": {},
   "source": [
    "# Conclusion"
   ]
  },
  {
   "cell_type": "markdown",
   "id": "6714a461",
   "metadata": {},
   "source": [
    "We have successfully navigated the dataset and answered poignant question that will be useful those seeking entry into software development as well as those seeking to hire them. We can of course do more, we can look at data across the years and provide ourselves with more balanced information."
   ]
  },
  {
   "cell_type": "code",
   "execution_count": null,
   "id": "e4e53ac9",
   "metadata": {},
   "outputs": [],
   "source": []
  }
 ],
 "metadata": {
  "kernelspec": {
   "display_name": "Python 3",
   "language": "python",
   "name": "python3"
  },
  "language_info": {
   "codemirror_mode": {
    "name": "ipython",
    "version": 3
   },
   "file_extension": ".py",
   "mimetype": "text/x-python",
   "name": "python",
   "nbconvert_exporter": "python",
   "pygments_lexer": "ipython3",
   "version": "3.8.8"
  }
 },
 "nbformat": 4,
 "nbformat_minor": 5
}
